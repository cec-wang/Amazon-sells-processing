{
 "cells": [
  {
   "cell_type": "markdown",
   "metadata": {},
   "source": [
    "# Machine Learning in Predicting Sales of a New Product on Amazon\n",
    "**by: Zixing (Cecile) Wang**\n",
    "\n",
    "In this project, I used ETL to prepare data for machine learning. Then find the best machine learning model for predicting the sales based on parameters including keywords in title, review number, time on Amazon, etc."
   ]
  },
  {
   "cell_type": "code",
   "execution_count": 303,
   "metadata": {},
   "outputs": [
    {
     "name": "stderr",
     "output_type": "stream",
     "text": [
      "[nltk_data] Downloading package stopwords to\n",
      "[nltk_data]     C:\\Users\\Zixing\\AppData\\Roaming\\nltk_data...\n",
      "[nltk_data]   Package stopwords is already up-to-date!\n",
      "[nltk_data] Downloading package wordnet to\n",
      "[nltk_data]     C:\\Users\\Zixing\\AppData\\Roaming\\nltk_data...\n",
      "[nltk_data]   Package wordnet is already up-to-date!\n",
      "[nltk_data] Downloading package punkt to\n",
      "[nltk_data]     C:\\Users\\Zixing\\AppData\\Roaming\\nltk_data...\n",
      "[nltk_data]   Package punkt is already up-to-date!\n"
     ]
    }
   ],
   "source": [
    "# import the libraries\n",
    "import pandas as pd\n",
    "import numpy as np\n",
    "import matplotlib.pyplot as plt\n",
    "from sklearn.metrics import r2_score\n",
    "\n",
    "from scipy.optimize import curve_fit\n",
    "\n",
    "# for distribution fitting\n",
    "from astropy import modeling as am\n",
    "\n",
    "# import text processing libraries for keywords processing\n",
    "import re\n",
    "import nltk\n",
    "nltk.download('stopwords')\n",
    "nltk.download('wordnet') # download for lemmatization\n",
    "nltk.download('punkt')\n",
    "from nltk.tokenize import word_tokenize\n",
    "from nltk.stem.porter import PorterStemmer\n",
    "from nltk.stem.wordnet import WordNetLemmatizer\n",
    "from nltk.corpus import stopwords\n",
    "\n",
    "import amz\n",
    "\n",
    "glob = globals()"
   ]
  },
  {
   "cell_type": "code",
   "execution_count": 352,
   "metadata": {},
   "outputs": [],
   "source": [
    "#import the machine learning libraries\n",
    "from sklearn.pipeline import Pipeline\n",
    "from sklearn.metrics import confusion_matrix\n",
    "from sklearn.model_selection import train_test_split\n",
    "from sklearn.feature_extraction.text import CountVectorizer, TfidfTransformer\n",
    "from sklearn.model_selection import GridSearchCV\n",
    "from sklearn.ensemble import RandomForestRegressor\n",
    "from sklearn import linear_model\n",
    "from sklearn.preprocessing import PolynomialFeatures\n",
    "from sklearn.tree import DecisionTreeRegressor\n",
    "from sklearn.svm import SVR\n",
    "from sklearn.pipeline import make_pipeline\n",
    "from sklearn.preprocessing import StandardScaler"
   ]
  },
  {
   "cell_type": "code",
   "execution_count": 305,
   "metadata": {
    "scrolled": false
   },
   "outputs": [
    {
     "data": {
      "text/plain": [
       "'E:\\\\Data_Science_Coursework\\\\Amazon_Sales_Analysis'"
      ]
     },
     "execution_count": 305,
     "metadata": {},
     "output_type": "execute_result"
    }
   ],
   "source": [
    "# import os\n",
    "import os\n",
    "cwd = os.getcwd()\n",
    "cwd"
   ]
  },
  {
   "cell_type": "markdown",
   "metadata": {},
   "source": [
    "## 1. ETL Pipeline ##"
   ]
  },
  {
   "cell_type": "code",
   "execution_count": 306,
   "metadata": {},
   "outputs": [
    {
     "data": {
      "text/plain": [
       "16"
      ]
     },
     "execution_count": 306,
     "metadata": {},
     "output_type": "execute_result"
    }
   ],
   "source": [
    "#get the list of files saved for machine learning\n",
    "path_to_learn = ('...')\n",
    "files = os.listdir(path_to_learn)\n",
    "len(files)"
   ]
  },
  {
   "cell_type": "code",
   "execution_count": 307,
   "metadata": {},
   "outputs": [],
   "source": [
    "#Put all data into one dataframe called ml_set\n",
    "ml_set = pd.read_csv(path_to_learn + files[0])\n",
    "for i in range(1, len(files)):\n",
    "    new_set = pd.read_csv(path_to_learn + files[i])\n",
    "    ml_set = ml_set.append(new_set, ignore_index = True)"
   ]
  },
  {
   "cell_type": "code",
   "execution_count": 310,
   "metadata": {
    "scrolled": true
   },
   "outputs": [
    {
     "data": {
      "text/plain": [
       "(1277, 22)"
      ]
     },
     "execution_count": 310,
     "metadata": {},
     "output_type": "execute_result"
    }
   ],
   "source": [
    "ml_set.shape"
   ]
  },
  {
   "cell_type": "markdown",
   "metadata": {},
   "source": [
    "We have 1277 entries for machine learning and 22 features."
   ]
  },
  {
   "cell_type": "code",
   "execution_count": 311,
   "metadata": {},
   "outputs": [],
   "source": [
    "def x_ray_clean(df, sizetiercatnum = {'Small Standard-Size': 1, 'Large Standard-Size': 2, np.nan: 0}):\n",
    "    if 'Unnamed: 20' in df.columns or 'Unnamed: 21' in df.columns:\n",
    "        df = df.drop(columns = ['Unnamed: 20', 'Unnamed: 21'])\n",
    "    # Handle the price column\n",
    "    df.dropna(subset = ['Price', 'Title'], inplace = True)\n",
    "    if  df.Price.dtypes == 'object':\n",
    "            df.Price = df.Price.astype(str).str.replace(',', '').astype(float)\n",
    "    # Handle the Fulfillment column\n",
    "    df['Fulfillment '][df['FBA fee'] == 0] = 'MFN'\n",
    "    df['Fulfillment '].fillna('FBA', inplace = True)\n",
    "    # Handle the Sales, Revenue, BSR, Review count, Review Velocity column\n",
    "    df[['Sales','Revenue', 'BSR', 'Review Count', 'Review Velocity']] = df[['Sales','Revenue', 'BSR', 'Review Count', 'Review Velocity']].apply(lambda x: data_clean1(x))\n",
    "    df.BSR.replace(to_replace = 0, value = df.BSR.max(), inplace = True)\n",
    "    #Handle the Dimensions column\n",
    "    df.Dimensions.fillna(inplace = True, method = 'pad')\n",
    "    df.Dimensions.fillna(inplace = True, method = 'bfill')\n",
    "    #Handle Weight and images column\n",
    "    df['Weight'].fillna(df['Weight'].median(), inplace = True)\n",
    "    df['Images'].fillna(df['Images'].median(), inplace = True)\n",
    "    # Handle the Images column\n",
    "    df.Images.fillna(df.Images.median(), inplace= True)\n",
    "    # Handle the listing creation date\n",
    "    df['Listing Creation Date'].fillna(inplace = True, method = 'pad')\n",
    "    df['Listing Creation Date'].fillna(inplace = True, method = 'bfill')\n",
    "\n",
    "    df = df.sort_values(by = ['Sales'], axis = 0, ascending = False)\n",
    "    df = df.reset_index(drop = True)\n",
    "    df['Review Ratio'] = df['Sales']/df['Review Velocity']\n",
    "    df['Review Ratio'][df['Review Ratio'] == np.inf] = 0\n",
    "    df['Review Ratio'].fillna(0, inplace  =True)\n",
    "    df['Volume'] = 0.00\n",
    "    for i, dimen in enumerate(df.Dimensions):\n",
    "        firstx = dimen.find('x')\n",
    "        secdx = dimen.find('x', firstx+1)\n",
    "        l = float(dimen[:firstx])\n",
    "        w = float(dimen[firstx+1:secdx])\n",
    "        h = float(dimen[secdx+1:])\n",
    "        df.at[i, 'Volume'] = l*w*h\n",
    "    df['Size Tier Numeric'] = df['Size Tier'].apply(lambda x: sizetiercatnum[x])\n",
    "    ful_num = {'MFN': 2, 'FBA': 1, 'AMZ': 3, np.nan: 0}\n",
    "    df['FF Numeric'] = df['Fulfillment '].apply(lambda x: ful_num[x])\n",
    "    today= pd.to_datetime('today')\n",
    "    df['Listing Creation Date'] = pd.to_datetime(df['Listing Creation Date'], format = '%m/%d/%Y')\n",
    "    df['Listing Length'] = today - df['Listing Creation Date']\n",
    "    df['Listing Length'] = df['Listing Length'].transform(lambda x: x.days)\n",
    "    # Fill the Listing Length with the median\n",
    "    df['Listing Length'].fillna(df['Listing Length'].median(skipna = True), inplace = True)\n",
    "    return df"
   ]
  },
  {
   "cell_type": "code",
   "execution_count": 312,
   "metadata": {
    "scrolled": false
   },
   "outputs": [
    {
     "name": "stderr",
     "output_type": "stream",
     "text": [
      "C:\\Users\\Zixing\\anaconda3\\lib\\site-packages\\ipykernel_launcher.py:9: SettingWithCopyWarning: \n",
      "A value is trying to be set on a copy of a slice from a DataFrame\n",
      "\n",
      "See the caveats in the documentation: https://pandas.pydata.org/pandas-docs/stable/user_guide/indexing.html#returning-a-view-versus-a-copy\n",
      "  if __name__ == '__main__':\n",
      "C:\\Users\\Zixing\\anaconda3\\lib\\site-packages\\ipykernel_launcher.py:29: SettingWithCopyWarning: \n",
      "A value is trying to be set on a copy of a slice from a DataFrame\n",
      "\n",
      "See the caveats in the documentation: https://pandas.pydata.org/pandas-docs/stable/user_guide/indexing.html#returning-a-view-versus-a-copy\n"
     ]
    }
   ],
   "source": [
    "# Clean the data\n",
    "ml_set = x_ray_clean(ml_set, sizetiercatnum = {'Small Standard-Size': 1, 'Large Standard-Size': 2, 'Small Oversize':3,\\\n",
    "                                                    np.nan: 0})"
   ]
  },
  {
   "cell_type": "code",
   "execution_count": 313,
   "metadata": {
    "scrolled": false
   },
   "outputs": [
    {
     "data": {
      "text/plain": [
       "Index(['ASIN', 'Brand', 'Title', 'Category', 'BuyBox', '#', 'Fulfillment ',\n",
       "       'Price', 'FBA fee', 'Sales', 'Revenue', 'BSR', 'Rating', 'Review Count',\n",
       "       'Review Velocity', 'Dimensions', 'Weight', 'Size Tier', 'Images',\n",
       "       'Listing Creation Date', 'Review Ratio', 'Volume', 'Size Tier Numeric',\n",
       "       'FF Numeric', 'Listing Length'],\n",
       "      dtype='object')"
      ]
     },
     "execution_count": 313,
     "metadata": {},
     "output_type": "execute_result"
    }
   ],
   "source": [
    "ml_set.columns"
   ]
  },
  {
   "attachments": {},
   "cell_type": "markdown",
   "metadata": {},
   "source": [
    "## 2. Identify promising machine learning models\n"
   ]
  },
  {
   "cell_type": "code",
   "execution_count": 316,
   "metadata": {},
   "outputs": [],
   "source": [
    "#split data into independent variable and dependent variable\n",
    "X_lst = ['Title', 'Price', 'FBA fee', 'Rating', 'Review Count', 'Weight', 'Images', 'Review Ratio', 'Size Tier Numeric',\\\n",
    "       'Volume', 'Size Tier Numeric', 'FF Numeric', 'Listing Length']\n",
    "X = ml_set[X_lst]\n",
    "y = ml_set.Sales.values\n",
    "\n",
    "#train test split\n",
    "X_train, X_test, y_train, y_test = train_test_split(X, y, test_size = 0.1, random_state = 42)"
   ]
  },
  {
   "cell_type": "code",
   "execution_count": 366,
   "metadata": {},
   "outputs": [],
   "source": [
    "def x_prep(X, vect, tfidf, train_test):\n",
    "    '''\n",
    "    Prepare the x data by (fit)transform the title column into tokens\n",
    "    Combine the title tokens with other indep variables'''\n",
    "    title = X.Title.values\n",
    "    if train_test == 'train':\n",
    "        title_counts = vect.fit_transform(title)\n",
    "        title_tfidf = tfidf.fit_transform(title_counts)\n",
    "    else:\n",
    "        title_counts = vect.transform(title)\n",
    "        title_tfidf = tfidf.transform(title_counts)\n",
    "    X.drop(['Title'], axis =1, inplace = True)\n",
    "    X_conc = np.concatenate((title_tfidf.toarray(), X.values), axis = 1)\n",
    "    return X_conc"
   ]
  },
  {
   "cell_type": "code",
   "execution_count": 318,
   "metadata": {},
   "outputs": [],
   "source": [
    "vect = CountVectorizer(tokenizer=amz.tokenize)\n",
    "tfidf = TfidfTransformer()"
   ]
  },
  {
   "cell_type": "code",
   "execution_count": 319,
   "metadata": {
    "scrolled": true
   },
   "outputs": [
    {
     "name": "stderr",
     "output_type": "stream",
     "text": [
      "C:\\Users\\Zixing\\anaconda3\\lib\\site-packages\\pandas\\core\\frame.py:3997: SettingWithCopyWarning: \n",
      "A value is trying to be set on a copy of a slice from a DataFrame\n",
      "\n",
      "See the caveats in the documentation: https://pandas.pydata.org/pandas-docs/stable/user_guide/indexing.html#returning-a-view-versus-a-copy\n",
      "  errors=errors,\n"
     ]
    }
   ],
   "source": [
    "X_train_conc = x_prep(X = X_train, vect = vect, tfidf = tfidf, train_test = 'train')\n",
    "X_test_conc = x_prep(X = X_test, vect = vect, tfidf = tfidf, train_test = 'test')"
   ]
  },
  {
   "cell_type": "code",
   "execution_count": 321,
   "metadata": {
    "scrolled": true
   },
   "outputs": [
    {
     "data": {
      "text/plain": [
       "(1144, 1511)"
      ]
     },
     "execution_count": 321,
     "metadata": {},
     "output_type": "execute_result"
    }
   ],
   "source": [
    "X_train_conc.shape"
   ]
  },
  {
   "cell_type": "markdown",
   "metadata": {},
   "source": [
    "Use regression of all values to fit the sales\n",
    "- Linear regression:\n",
    "    - Ordinary Least Squares\n",
    "    - Elastic-Net\n",
    "- Polynomial regression\n",
    "- Random Forest\n",
    "- Decision Tree"
   ]
  },
  {
   "cell_type": "code",
   "execution_count": 343,
   "metadata": {
    "scrolled": false
   },
   "outputs": [],
   "source": [
    "OLS = linear_model.LinearRegression()\n",
    "enet = linear_model.ElasticNet()\n",
    "poly3 = PolynomialFeatures(degree=2)\n",
    "#X_train_3 = poly3.fit_transform(X_train_conc)\n",
    "RForest = RandomForestRegressor()"
   ]
  },
  {
   "cell_type": "markdown",
   "metadata": {},
   "source": [
    "Linear"
   ]
  },
  {
   "cell_type": "code",
   "execution_count": 413,
   "metadata": {
    "scrolled": true
   },
   "outputs": [
    {
     "name": "stdout",
     "output_type": "stream",
     "text": [
      "R2 score:  -0.02094274684592823 /MAE:  461056983.8103179 /MSE:  1.760524661315902e+18\n"
     ]
    }
   ],
   "source": [
    "OLS.fit(X_train_conc, y_train)\n",
    "y_pred_OLS = OLS.predict(X_test_conc)\n",
    "\n",
    "print('R2 score: ', r2_score(y_pred_OLS , y_test), \n",
    "      '/MAE: ', np.mean(np.absolute(y_test-y_pred_OLS)),\n",
    "   '/MSE: ', np.mean((y_test-y_pred_OLS) ** 2))"
   ]
  },
  {
   "cell_type": "markdown",
   "metadata": {},
   "source": [
    "Elastic-Net for Linear"
   ]
  },
  {
   "cell_type": "code",
   "execution_count": 414,
   "metadata": {
    "scrolled": true
   },
   "outputs": [
    {
     "name": "stdout",
     "output_type": "stream",
     "text": [
      "R2 score:  0.23414025994036836 /MAE:  3443.731323472945 /MSE:  54593428.6259497\n"
     ]
    }
   ],
   "source": [
    "enet.fit(X_train_conc, y_train)\n",
    "y_pred_enet = enet.predict(X_test_conc)\n",
    "print('R2 score: ', r2_score(y_pred_enet , y_test), \n",
    "      '/MAE: ', np.mean(np.absolute(y_test-y_pred_enet)),\n",
    "   '/MSE: ', np.mean((y_test-y_pred_enet) ** 2))"
   ]
  },
  {
   "cell_type": "markdown",
   "metadata": {},
   "source": [
    "Random Forest"
   ]
  },
  {
   "cell_type": "code",
   "execution_count": 415,
   "metadata": {},
   "outputs": [
    {
     "name": "stdout",
     "output_type": "stream",
     "text": [
      "R2 score:  0.7609283384449187 /MAE:  1524.8502648809524 /MSE:  18815306.224119417\n"
     ]
    }
   ],
   "source": [
    "RForest.fit(X_train_conc, y_train)\n",
    "y_pred_rf = RForest.predict(X_test_conc)\n",
    "print('R2 score: ', r2_score(y_pred_rf , y_test), \n",
    "      '/MAE: ', np.mean(np.absolute(y_test-y_pred_rf)),\n",
    "   '/MSE: ', np.mean((y_test-y_pred_rf) ** 2))"
   ]
  },
  {
   "cell_type": "markdown",
   "metadata": {},
   "source": [
    "Decision Tree"
   ]
  },
  {
   "cell_type": "code",
   "execution_count": 416,
   "metadata": {
    "scrolled": true
   },
   "outputs": [
    {
     "name": "stdout",
     "output_type": "stream",
     "text": [
      "R2 score:  0.6365823359797989 /MAE:  1614.109375 /MSE:  35107250.203125\n"
     ]
    }
   ],
   "source": [
    "DTree = DecisionTreeRegressor()\n",
    "DTree.fit(X_train_conc, y_train)\n",
    "y_pred_dt = DTree.predict(X_test_conc)\n",
    "print('R2 score: ', r2_score(y_pred_dt , y_test), \n",
    "      '/MAE: ', np.mean(np.absolute(y_test-y_pred_dt)),\n",
    "   '/MSE: ', np.mean((y_test-y_pred_dt) ** 2))"
   ]
  },
  {
   "cell_type": "markdown",
   "metadata": {},
   "source": [
    "Support Vector Regressor"
   ]
  },
  {
   "cell_type": "code",
   "execution_count": 417,
   "metadata": {},
   "outputs": [
    {
     "name": "stdout",
     "output_type": "stream",
     "text": [
      "R2 score:  -14961289.552900324 /MAE:  4370.354982182333 /MSE:  140002352.8071701\n"
     ]
    }
   ],
   "source": [
    "svr = make_pipeline(StandardScaler(), SVR(C=1.0, epsilon=0.2))\n",
    "svr.fit(X_train_conc, y_train)\n",
    "y_pred_svr = svr.predict(X_test_conc)\n",
    "print('R2 score: ', r2_score(y_pred_svr , y_test), \n",
    "      '/MAE: ', np.mean(np.absolute(y_test-y_pred_svr)),\n",
    "   '/MSE: ', np.mean((y_test-y_pred_svr) ** 2))"
   ]
  },
  {
   "cell_type": "markdown",
   "metadata": {},
   "source": [
    "## 3. Grid search for the best parameters\n",
    "With an initial screening, we can see decision tree and random forest gives the closest estimations. Now we use a grid search to find the best parameters for the estimation. "
   ]
  },
  {
   "cell_type": "code",
   "execution_count": 358,
   "metadata": {},
   "outputs": [
    {
     "name": "stdout",
     "output_type": "stream",
     "text": [
      "Fitting 3 folds for each of 75 candidates, totalling 225 fits\n"
     ]
    },
    {
     "name": "stderr",
     "output_type": "stream",
     "text": [
      "[Parallel(n_jobs=-1)]: Using backend LokyBackend with 4 concurrent workers.\n",
      "[Parallel(n_jobs=-1)]: Done  24 tasks      | elapsed:  1.6min\n",
      "[Parallel(n_jobs=-1)]: Done 120 tasks      | elapsed:  8.4min\n",
      "[Parallel(n_jobs=-1)]: Done 225 out of 225 | elapsed: 16.0min finished\n"
     ]
    },
    {
     "data": {
      "text/plain": [
       "GridSearchCV(cv=3, error_score=nan,\n",
       "             estimator=RandomForestRegressor(bootstrap=True, ccp_alpha=0.0,\n",
       "                                             criterion='mse', max_depth=None,\n",
       "                                             max_features='auto',\n",
       "                                             max_leaf_nodes=None,\n",
       "                                             max_samples=None,\n",
       "                                             min_impurity_decrease=0.0,\n",
       "                                             min_impurity_split=None,\n",
       "                                             min_samples_leaf=1,\n",
       "                                             min_samples_split=2,\n",
       "                                             min_weight_fraction_leaf=0.0,\n",
       "                                             n_estimators=100, n_jobs=None,\n",
       "                                             oob_score=False, random_state=None,\n",
       "                                             verbose=0, warm_start=False),\n",
       "             iid='deprecated', n_jobs=-1,\n",
       "             param_grid={'ccp_alpha': (0, 0.005, 0.01, 0.015, 0.02),\n",
       "                         'max_depth': range(5, 20, 5),\n",
       "                         'n_estimators': range(50, 300, 50)},\n",
       "             pre_dispatch='2*n_jobs', refit=True, return_train_score=False,\n",
       "             scoring=None, verbose=3)"
      ]
     },
     "execution_count": 358,
     "metadata": {},
     "output_type": "execute_result"
    }
   ],
   "source": [
    "ensemble_clf = [RForest, DTree]\n",
    "params1 = {\"n_estimators\":range(50, 300, 50),\"max_depth\": range(5,20,5), 'ccp_alpha': (0, 0.005, 0.01, 0.015, 0.02)}\n",
    "params2 = {'criterion':['mse', 'friedman_mse', 'mae'], 'min_samples_split': range(2, 10, 4), 'ccp_alpha': (0, 0.005, 0.01, 0.015, 0.02)}\n",
    "parameters_list = [params1, params2]\n",
    "#for i in range(2):\n",
    "grid = GridSearchCV(estimator=ensemble_clf[0], param_grid=parameters_list[0], \n",
    "                      n_jobs=-1, cv=3, verbose=3)\n",
    "grid.fit(X_train_conc, y_train)\n"
   ]
  },
  {
   "cell_type": "code",
   "execution_count": 360,
   "metadata": {
    "scrolled": true
   },
   "outputs": [],
   "source": [
    "RForest_best = grid.best_estimator_"
   ]
  },
  {
   "cell_type": "code",
   "execution_count": 362,
   "metadata": {},
   "outputs": [
    {
     "data": {
      "text/plain": [
       "RandomForestRegressor(bootstrap=True, ccp_alpha=0.005, criterion='mse',\n",
       "                      max_depth=15, max_features='auto', max_leaf_nodes=None,\n",
       "                      max_samples=None, min_impurity_decrease=0.0,\n",
       "                      min_impurity_split=None, min_samples_leaf=1,\n",
       "                      min_samples_split=2, min_weight_fraction_leaf=0.0,\n",
       "                      n_estimators=50, n_jobs=None, oob_score=False,\n",
       "                      random_state=None, verbose=0, warm_start=False)"
      ]
     },
     "execution_count": 362,
     "metadata": {},
     "output_type": "execute_result"
    }
   ],
   "source": [
    "grid.best_estimator_"
   ]
  },
  {
   "cell_type": "code",
   "execution_count": 420,
   "metadata": {},
   "outputs": [
    {
     "name": "stdout",
     "output_type": "stream",
     "text": [
      "R2 score:  0.7707941786636126 /MAE:  1479.9826878152169 /MSE:  17952473.951057814\n"
     ]
    }
   ],
   "source": [
    "y_pred_RF_grid = RForest_best.predict(X_test_conc)\n",
    "print('R2 score: ', r2_score(y_pred_RF_grid , y_test), \n",
    "      '/MAE: ', np.mean(np.absolute(y_test-y_pred_RF_grid)),\n",
    "   '/MSE: ', np.mean((y_test-y_pred_RF_grid) ** 2))"
   ]
  },
  {
   "cell_type": "code",
   "execution_count": 460,
   "metadata": {},
   "outputs": [
    {
     "data": {
      "text/plain": [
       "Text(0.5, 1.0, 'Predicted vs. Actual from Random Forest Model')"
      ]
     },
     "execution_count": 460,
     "metadata": {},
     "output_type": "execute_result"
    },
    {
     "data": {
      "image/png": "[encoded data removed]",
      "text/plain": [
       "<Figure size 432x288 with 1 Axes>"
      ]
     },
     "metadata": {
      "needs_background": "light"
     },
     "output_type": "display_data"
    }
   ],
   "source": [
    "plt.plot(y_pred_RF_grid)\n",
    "plt.plot(y_test)\n",
    "plt.legend(['predicted', 'actual'], loc = 2)\n",
    "plt.title('Predicted vs. Actual from Random Forest Model')"
   ]
  },
  {
   "cell_type": "code",
   "execution_count": 453,
   "metadata": {},
   "outputs": [
    {
     "data": {
      "text/plain": [
       "array([2.5380e+03, 7.0000e+00, 3.3000e+01, 0.0000e+00, 7.9000e+01,\n",
       "       0.0000e+00, 3.5272e+04, 1.4510e+03, 1.4000e+01, 1.5610e+03,\n",
       "       1.0000e+01, 0.0000e+00, 6.9000e+01, 0.0000e+00, 4.0630e+04,\n",
       "       1.1300e+02, 1.6640e+03, 8.3000e+01, 5.4200e+02, 1.5100e+02,\n",
       "       1.0000e+00, 2.0000e+01, 2.2000e+01, 5.0000e+00, 1.6000e+01,\n",
       "       3.4000e+01, 3.7873e+04, 2.6000e+01, 7.0000e+00, 5.0000e+00,\n",
       "       2.3000e+01, 3.6000e+01, 3.3000e+01, 3.4000e+01, 9.1800e+02,\n",
       "       3.3000e+02, 3.0000e+00, 0.0000e+00, 2.3020e+03, 1.1800e+02,\n",
       "       2.0000e+00, 2.2000e+02, 1.5200e+02, 2.5380e+03, 3.2244e+04,\n",
       "       6.5000e+01, 3.0000e+00, 2.8010e+03, 1.1000e+01, 6.3000e+01,\n",
       "       6.3880e+03, 2.9822e+04, 1.1800e+02, 9.6000e+01, 2.8886e+04,\n",
       "       8.2000e+01, 1.2050e+03, 0.0000e+00, 0.0000e+00, 4.7000e+01,\n",
       "       3.7027e+04, 3.0000e+00, 1.3000e+01, 2.0000e+00, 1.1000e+01,\n",
       "       7.5000e+01, 3.6910e+03, 2.0000e+01, 1.2400e+02, 1.0980e+03,\n",
       "       2.0000e+00, 1.1500e+02, 5.0000e+00, 3.6446e+04, 1.4100e+03,\n",
       "       5.0000e+00, 0.0000e+00, 2.4100e+02, 1.1800e+02, 3.7399e+04,\n",
       "       1.4000e+01, 1.1670e+03, 3.2400e+02, 4.0000e+00, 0.0000e+00,\n",
       "       3.5500e+02, 7.6600e+02, 3.4700e+02, 2.9900e+02, 0.0000e+00,\n",
       "       2.9600e+02, 1.4363e+04, 0.0000e+00, 4.3000e+01, 6.8000e+01,\n",
       "       7.5000e+01, 0.0000e+00, 2.8700e+03, 3.0000e+00, 3.2000e+01,\n",
       "       4.0000e+00, 8.0000e+00, 5.0000e+00, 3.0000e+01, 9.6800e+02,\n",
       "       2.0000e+01, 5.1100e+02, 7.4000e+01, 3.7778e+04, 6.9280e+03,\n",
       "       0.0000e+00, 4.0177e+04, 4.0078e+04, 1.1390e+03, 4.6200e+02,\n",
       "       6.2000e+01, 3.4000e+01, 2.4814e+04, 7.3600e+02, 1.2000e+02,\n",
       "       2.7000e+01, 1.1000e+01, 3.4108e+04, 2.7930e+03, 1.6000e+01,\n",
       "       2.8900e+02, 0.0000e+00, 9.0800e+02])"
      ]
     },
     "execution_count": 453,
     "metadata": {},
     "output_type": "execute_result"
    }
   ],
   "source": [
    "y_test"
   ]
  },
  {
   "cell_type": "code",
   "execution_count": 363,
   "metadata": {
    "scrolled": true
   },
   "outputs": [
    {
     "name": "stdout",
     "output_type": "stream",
     "text": [
      "Fitting 3 folds for each of 30 candidates, totalling 90 fits\n"
     ]
    },
    {
     "name": "stderr",
     "output_type": "stream",
     "text": [
      "[Parallel(n_jobs=-1)]: Using backend LokyBackend with 4 concurrent workers.\n",
      "[Parallel(n_jobs=-1)]: Done  24 tasks      | elapsed:    7.5s\n",
      "[Parallel(n_jobs=-1)]: Done  90 out of  90 | elapsed:   35.9s finished\n"
     ]
    },
    {
     "data": {
      "text/plain": [
       "GridSearchCV(cv=3, error_score=nan,\n",
       "             estimator=DecisionTreeRegressor(ccp_alpha=0.0, criterion='mse',\n",
       "                                             max_depth=None, max_features=None,\n",
       "                                             max_leaf_nodes=None,\n",
       "                                             min_impurity_decrease=0.0,\n",
       "                                             min_impurity_split=None,\n",
       "                                             min_samples_leaf=1,\n",
       "                                             min_samples_split=2,\n",
       "                                             min_weight_fraction_leaf=0.0,\n",
       "                                             presort='deprecated',\n",
       "                                             random_state=None,\n",
       "                                             splitter='best'),\n",
       "             iid='deprecated', n_jobs=-1,\n",
       "             param_grid={'ccp_alpha': (0, 0.005, 0.01, 0.015, 0.02),\n",
       "                         'criterion': ['mse', 'friedman_mse', 'mae'],\n",
       "                         'min_samples_split': range(2, 10, 4)},\n",
       "             pre_dispatch='2*n_jobs', refit=True, return_train_score=False,\n",
       "             scoring=None, verbose=3)"
      ]
     },
     "execution_count": 363,
     "metadata": {},
     "output_type": "execute_result"
    }
   ],
   "source": [
    "grid_DTree = GridSearchCV(estimator=ensemble_clf[1], param_grid=parameters_list[1], \n",
    "                      n_jobs=-1, cv=3, verbose=3)\n",
    "grid_DTree.fit(X_train_conc, y_train)"
   ]
  },
  {
   "cell_type": "code",
   "execution_count": 364,
   "metadata": {},
   "outputs": [
    {
     "data": {
      "text/plain": [
       "DecisionTreeRegressor(ccp_alpha=0.01, criterion='mae', max_depth=None,\n",
       "                      max_features=None, max_leaf_nodes=None,\n",
       "                      min_impurity_decrease=0.0, min_impurity_split=None,\n",
       "                      min_samples_leaf=1, min_samples_split=2,\n",
       "                      min_weight_fraction_leaf=0.0, presort='deprecated',\n",
       "                      random_state=None, splitter='best')"
      ]
     },
     "execution_count": 364,
     "metadata": {},
     "output_type": "execute_result"
    }
   ],
   "source": [
    "grid_DTree.best_estimator_"
   ]
  },
  {
   "cell_type": "code",
   "execution_count": 423,
   "metadata": {},
   "outputs": [
    {
     "name": "stdout",
     "output_type": "stream",
     "text": [
      "R2 score:  0.786340583518028 /MAE:  1572.125 /MSE:  29327971.91015625\n"
     ]
    }
   ],
   "source": [
    "DTree_best = grid_DTree.best_estimator_\n",
    "y_pred_DT_grid = DTree_best.predict(X_test_conc)\n",
    "print('R2 score: ', r2_score(y_pred_DT_grid , y_test), \n",
    "      '/MAE: ', np.mean(np.absolute(y_test-y_pred_DT_grid)),\n",
    "   '/MSE: ', np.mean((y_test-y_pred_DT_grid) ** 2))"
   ]
  },
  {
   "cell_type": "markdown",
   "metadata": {},
   "source": [
    "**Conclusion:** Random Forest model with ccp_alpha = 0.005, max_depth = 15, n_estimators = 50 gives the best estimation. \n",
    "## 4. Predict Sales on product of interest"
   ]
  },
  {
   "cell_type": "code",
   "execution_count": 424,
   "metadata": {
    "scrolled": true
   },
   "outputs": [
    {
     "name": "stderr",
     "output_type": "stream",
     "text": [
      "C:\\Users\\Zixing\\anaconda3\\lib\\site-packages\\ipykernel_launcher.py:9: SettingWithCopyWarning: \n",
      "A value is trying to be set on a copy of a slice from a DataFrame\n",
      "\n",
      "See the caveats in the documentation: https://pandas.pydata.org/pandas-docs/stable/user_guide/indexing.html#returning-a-view-versus-a-copy\n",
      "  if __name__ == '__main__':\n",
      "C:\\Users\\Zixing\\anaconda3\\lib\\site-packages\\ipykernel_launcher.py:29: SettingWithCopyWarning: \n",
      "A value is trying to be set on a copy of a slice from a DataFrame\n",
      "\n",
      "See the caveats in the documentation: https://pandas.pydata.org/pandas-docs/stable/user_guide/indexing.html#returning-a-view-versus-a-copy\n"
     ]
    }
   ],
   "source": [
    "# import data of interest\n",
    "myown = pd.read_csv('Moon_Star_Earrings/....csv')\n",
    "myown = x_ray_clean(myown)"
   ]
  },
  {
   "cell_type": "code",
   "execution_count": 439,
   "metadata": {
    "scrolled": true
   },
   "outputs": [
    {
     "name": "stderr",
     "output_type": "stream",
     "text": [
      "C:\\Users\\Zixing\\anaconda3\\lib\\site-packages\\pandas\\core\\frame.py:3997: SettingWithCopyWarning: \n",
      "A value is trying to be set on a copy of a slice from a DataFrame\n",
      "\n",
      "See the caveats in the documentation: https://pandas.pydata.org/pandas-docs/stable/user_guide/indexing.html#returning-a-view-versus-a-copy\n",
      "  errors=errors,\n"
     ]
    }
   ],
   "source": [
    "# Use pipeline to clean the X data\n",
    "myown_x = myown[X_lst]\n",
    "myown_y = myown.Sales.values\n",
    "\n",
    "myown_X = x_prep(myown_x, vect = vect, tfidf = tfidf, train_test = 'test')"
   ]
  },
  {
   "cell_type": "code",
   "execution_count": 426,
   "metadata": {},
   "outputs": [
    {
     "data": {
      "text/plain": [
       "array([9, 9, 9, 9, 9, 9], dtype=int64)"
      ]
     },
     "execution_count": 426,
     "metadata": {},
     "output_type": "execute_result"
    }
   ],
   "source": [
    "#the actual sales\n",
    "myown_y"
   ]
  },
  {
   "cell_type": "code",
   "execution_count": 370,
   "metadata": {},
   "outputs": [
    {
     "data": {
      "text/plain": [
       "array([15., 15., 15., 15., 15., 15.])"
      ]
     },
     "execution_count": 370,
     "metadata": {},
     "output_type": "execute_result"
    }
   ],
   "source": [
    "# use the decision tree model from the grid search\n",
    "DTree_best.predict(myown_X)"
   ]
  },
  {
   "cell_type": "code",
   "execution_count": 428,
   "metadata": {
    "scrolled": true
   },
   "outputs": [
    {
     "data": {
      "text/plain": [
       "array([14., 14., 14., 14., 14., 14.])"
      ]
     },
     "execution_count": 428,
     "metadata": {},
     "output_type": "execute_result"
    }
   ],
   "source": [
    "DTree.predict(myown_X)"
   ]
  },
  {
   "cell_type": "code",
   "execution_count": 429,
   "metadata": {
    "scrolled": true
   },
   "outputs": [
    {
     "data": {
      "text/plain": [
       "array([12.596, 12.996, 12.916, 12.826, 12.926, 12.876])"
      ]
     },
     "execution_count": 429,
     "metadata": {},
     "output_type": "execute_result"
    }
   ],
   "source": [
    "RForest.predict(myown_X)"
   ]
  },
  {
   "cell_type": "code",
   "execution_count": 431,
   "metadata": {
    "scrolled": true
   },
   "outputs": [
    {
     "data": {
      "text/plain": [
       "array([8.39713198, 8.39713198, 8.39713198, 8.51763551, 8.51763551,\n",
       "       8.51763551])"
      ]
     },
     "execution_count": 431,
     "metadata": {},
     "output_type": "execute_result"
    }
   ],
   "source": [
    "RForest_best.predict(myown_X)"
   ]
  },
  {
   "cell_type": "markdown",
   "metadata": {},
   "source": [
    "Predict the sales with time."
   ]
  },
  {
   "cell_type": "code",
   "execution_count": 444,
   "metadata": {
    "scrolled": true
   },
   "outputs": [],
   "source": [
    "# Assume the review number changes with time as well. \n",
    "timeseries = myown[X_lst].copy()\n",
    "timeseries['Listing Length'] = 90*np.arange(2, 8)\n",
    "timeseries['Review Count'] = 2*np.arange(2, 8)"
   ]
  },
  {
   "cell_type": "code",
   "execution_count": 446,
   "metadata": {},
   "outputs": [],
   "source": [
    "timeseries_X = x_prep(timeseries, vect = vect, tfidf = tfidf, train_test = 'test')"
   ]
  },
  {
   "cell_type": "code",
   "execution_count": 449,
   "metadata": {},
   "outputs": [],
   "source": [
    "time_sales = RForest_best.predict(timeseries_X)"
   ]
  },
  {
   "cell_type": "code",
   "execution_count": 450,
   "metadata": {},
   "outputs": [
    {
     "data": {
      "text/plain": [
       "Text(0.5, 1.0, 'Predicted Sales of the item with time')"
      ]
     },
     "execution_count": 450,
     "metadata": {},
     "output_type": "execute_result"
    },
    {
     "data": {
      "image/png": "[encoded data removed]",
      "text/plain": [
       "<Figure size 432x288 with 1 Axes>"
      ]
     },
     "metadata": {
      "needs_background": "light"
     },
     "output_type": "display_data"
    }
   ],
   "source": [
    "plt.plot(0.25*np.arange(2, 8), time_sales, 'o-')\n",
    "plt.xlabel('Time (years)')\n",
    "plt.ylabel('Sales')\n",
    "plt.title('Predicted Sales of the item with time')"
   ]
  }
 ],
 "metadata": {
  "kernelspec": {
   "display_name": "Python 3",
   "language": "python",
   "name": "python3"
  },
  "language_info": {
   "codemirror_mode": {
    "name": "ipython",
    "version": 3
   },
   "file_extension": ".py",
   "mimetype": "text/x-python",
   "name": "python",
   "nbconvert_exporter": "python",
   "pygments_lexer": "ipython3",
   "version": "3.7.6"
  }
 },
 "nbformat": 4,
 "nbformat_minor": 4
}

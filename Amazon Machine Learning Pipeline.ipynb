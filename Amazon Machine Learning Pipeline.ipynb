{
 "cells": [
  {
   "cell_type": "code",
   "execution_count": 303,
   "metadata": {},
   "outputs": [
    {
     "name": "stderr",
     "output_type": "stream",
     "text": [
      "[nltk_data] Downloading package stopwords to\n",
      "[nltk_data]     C:\\Users\\Zixing\\AppData\\Roaming\\nltk_data...\n",
      "[nltk_data]   Package stopwords is already up-to-date!\n",
      "[nltk_data] Downloading package wordnet to\n",
      "[nltk_data]     C:\\Users\\Zixing\\AppData\\Roaming\\nltk_data...\n",
      "[nltk_data]   Package wordnet is already up-to-date!\n",
      "[nltk_data] Downloading package punkt to\n",
      "[nltk_data]     C:\\Users\\Zixing\\AppData\\Roaming\\nltk_data...\n",
      "[nltk_data]   Package punkt is already up-to-date!\n"
     ]
    }
   ],
   "source": [
    "import pandas as pd\n",
    "import numpy as np\n",
    "import matplotlib.pyplot as plt\n",
    "from sklearn.metrics import r2_score\n",
    "\n",
    "from scipy.optimize import curve_fit\n",
    "\n",
    "# for distribution fitting\n",
    "from astropy import modeling as am\n",
    "\n",
    "# import text processing libraries for keywords processing\n",
    "import re\n",
    "import nltk\n",
    "nltk.download('stopwords')\n",
    "nltk.download('wordnet') # download for lemmatization\n",
    "nltk.download('punkt')\n",
    "from nltk.tokenize import word_tokenize\n",
    "from nltk.stem.porter import PorterStemmer\n",
    "from nltk.stem.wordnet import WordNetLemmatizer\n",
    "from nltk.corpus import stopwords\n",
    "\n",
    "import amz\n",
    "\n",
    "glob = globals()"
   ]
  },
  {
   "cell_type": "code",
   "execution_count": 352,
   "metadata": {},
   "outputs": [],
   "source": [
    "from sklearn.pipeline import Pipeline\n",
    "from sklearn.metrics import confusion_matrix\n",
    "from sklearn.model_selection import train_test_split\n",
    "from sklearn.feature_extraction.text import CountVectorizer, TfidfTransformer\n",
    "from sklearn.model_selection import GridSearchCV\n",
    "from sklearn.ensemble import RandomForestRegressor\n",
    "from sklearn import linear_model\n",
    "from sklearn.preprocessing import PolynomialFeatures\n",
    "from sklearn.tree import DecisionTreeRegressor\n",
    "from sklearn.svm import SVR\n",
    "from sklearn.pipeline import make_pipeline\n",
    "from sklearn.preprocessing import StandardScaler"
   ]
  },
  {
   "cell_type": "code",
   "execution_count": 305,
   "metadata": {
    "scrolled": false
   },
   "outputs": [
    {
     "data": {
      "text/plain": [
       "'E:\\\\Data_Science_Coursework\\\\Amazon_Sales_Analysis'"
      ]
     },
     "execution_count": 305,
     "metadata": {},
     "output_type": "execute_result"
    }
   ],
   "source": [
    "import os\n",
    "cwd = os.getcwd()\n",
    "cwd"
   ]
  },
  {
   "cell_type": "code",
   "execution_count": 306,
   "metadata": {},
   "outputs": [
    {
     "data": {
      "text/plain": [
       "16"
      ]
     },
     "execution_count": 306,
     "metadata": {},
     "output_type": "execute_result"
    }
   ],
   "source": [
    "#get the list of files saved for machine learning\n",
    "path_to_learn = ('E:\\\\Data_Science_Coursework\\\\Amazon_Sales_Analysis\\\\Moon_Star_Earrings\\\\Learning Dataset\\\\')\n",
    "files = os.listdir(path_to_learn)\n",
    "len(files)"
   ]
  },
  {
   "cell_type": "code",
   "execution_count": 307,
   "metadata": {},
   "outputs": [],
   "source": [
    "#Put all data into one dataframe called ml_set\n",
    "ml_set = pd.read_csv(path_to_learn + files[0])\n",
    "for i in range(1, len(files)):\n",
    "    new_set = pd.read_csv(path_to_learn + files[i])\n",
    "    ml_set = ml_set.append(new_set, ignore_index = True)"
   ]
  },
  {
   "cell_type": "code",
   "execution_count": 310,
   "metadata": {},
   "outputs": [
    {
     "data": {
      "text/plain": [
       "(1277, 22)"
      ]
     },
     "execution_count": 310,
     "metadata": {},
     "output_type": "execute_result"
    }
   ],
   "source": [
    "ml_set.shape"
   ]
  },
  {
   "cell_type": "code",
   "execution_count": 367,
   "metadata": {},
   "outputs": [
    {
     "name": "stderr",
     "output_type": "stream",
     "text": [
      "C:\\Users\\Zixing\\anaconda3\\lib\\site-packages\\ipykernel_launcher.py:9: SettingWithCopyWarning: \n",
      "A value is trying to be set on a copy of a slice from a DataFrame\n",
      "\n",
      "See the caveats in the documentation: https://pandas.pydata.org/pandas-docs/stable/user_guide/indexing.html#returning-a-view-versus-a-copy\n",
      "  if __name__ == '__main__':\n",
      "C:\\Users\\Zixing\\anaconda3\\lib\\site-packages\\ipykernel_launcher.py:29: SettingWithCopyWarning: \n",
      "A value is trying to be set on a copy of a slice from a DataFrame\n",
      "\n",
      "See the caveats in the documentation: https://pandas.pydata.org/pandas-docs/stable/user_guide/indexing.html#returning-a-view-versus-a-copy\n"
     ]
    }
   ],
   "source": [
    "myown = pd.read_csv('Moon_Star_Earrings/Helium_10_Xray_export_myown_Asymmetrical Star Earrings.csv')\n",
    "myown = x_ray_clean(myown)"
   ]
  },
  {
   "cell_type": "code",
   "execution_count": 311,
   "metadata": {},
   "outputs": [],
   "source": [
    "def x_ray_clean(df, sizetiercatnum = {'Small Standard-Size': 1, 'Large Standard-Size': 2, np.nan: 0}):\n",
    "    if 'Unnamed: 20' in df.columns or 'Unnamed: 21' in df.columns:\n",
    "        df = df.drop(columns = ['Unnamed: 20', 'Unnamed: 21'])\n",
    "    # Handle the price column\n",
    "    df.dropna(subset = ['Price', 'Title'], inplace = True)\n",
    "    if  df.Price.dtypes == 'object':\n",
    "            df.Price = df.Price.astype(str).str.replace(',', '').astype(float)\n",
    "    # Handle the Fulfillment column\n",
    "    df['Fulfillment '][df['FBA fee'] == 0] = 'MFN'\n",
    "    df['Fulfillment '].fillna('FBA', inplace = True)\n",
    "    # Handle the Sales, Revenue, BSR, Review count, Review Velocity column\n",
    "    df[['Sales','Revenue', 'BSR', 'Review Count', 'Review Velocity']] = df[['Sales','Revenue', 'BSR', 'Review Count', 'Review Velocity']].apply(lambda x: data_clean1(x))\n",
    "    df.BSR.replace(to_replace = 0, value = df.BSR.max(), inplace = True)\n",
    "    #Handle the Dimensions column\n",
    "    df.Dimensions.fillna(inplace = True, method = 'pad')\n",
    "    df.Dimensions.fillna(inplace = True, method = 'bfill')\n",
    "    #Handle Weight and images column\n",
    "    df['Weight'].fillna(df['Weight'].median(), inplace = True)\n",
    "    df['Images'].fillna(df['Images'].median(), inplace = True)\n",
    "    # Handle the Images column\n",
    "    df.Images.fillna(df.Images.median(), inplace= True)\n",
    "    # Handle the listing creation date\n",
    "    df['Listing Creation Date'].fillna(inplace = True, method = 'pad')\n",
    "    df['Listing Creation Date'].fillna(inplace = True, method = 'bfill')\n",
    "\n",
    "    df = df.sort_values(by = ['Sales'], axis = 0, ascending = False)\n",
    "    df = df.reset_index(drop = True)\n",
    "    df['Review Ratio'] = df['Sales']/df['Review Velocity']\n",
    "    df['Review Ratio'][df['Review Ratio'] == np.inf] = 0\n",
    "    df['Review Ratio'].fillna(0, inplace  =True)\n",
    "    df['Volume'] = 0.00\n",
    "    for i, dimen in enumerate(df.Dimensions):\n",
    "        firstx = dimen.find('x')\n",
    "        secdx = dimen.find('x', firstx+1)\n",
    "        l = float(dimen[:firstx])\n",
    "        w = float(dimen[firstx+1:secdx])\n",
    "        h = float(dimen[secdx+1:])\n",
    "        df.at[i, 'Volume'] = l*w*h\n",
    "    df['Size Tier Numeric'] = df['Size Tier'].apply(lambda x: sizetiercatnum[x])\n",
    "    ful_num = {'MFN': 2, 'FBA': 1, 'AMZ': 3, np.nan: 0}\n",
    "    df['FF Numeric'] = df['Fulfillment '].apply(lambda x: ful_num[x])\n",
    "    today= pd.to_datetime('today')\n",
    "    df['Listing Creation Date'] = pd.to_datetime(df['Listing Creation Date'], format = '%m/%d/%Y')\n",
    "    df['Listing Length'] = today - df['Listing Creation Date']\n",
    "    df['Listing Length'] = df['Listing Length'].transform(lambda x: x.days)\n",
    "    # Fill the Listing Length with the median\n",
    "    df['Listing Length'].fillna(df['Listing Length'].median(skipna = True), inplace = True)\n",
    "    return df"
   ]
  },
  {
   "cell_type": "code",
   "execution_count": 312,
   "metadata": {
    "scrolled": false
   },
   "outputs": [
    {
     "name": "stderr",
     "output_type": "stream",
     "text": [
      "C:\\Users\\Zixing\\anaconda3\\lib\\site-packages\\ipykernel_launcher.py:9: SettingWithCopyWarning: \n",
      "A value is trying to be set on a copy of a slice from a DataFrame\n",
      "\n",
      "See the caveats in the documentation: https://pandas.pydata.org/pandas-docs/stable/user_guide/indexing.html#returning-a-view-versus-a-copy\n",
      "  if __name__ == '__main__':\n",
      "C:\\Users\\Zixing\\anaconda3\\lib\\site-packages\\ipykernel_launcher.py:29: SettingWithCopyWarning: \n",
      "A value is trying to be set on a copy of a slice from a DataFrame\n",
      "\n",
      "See the caveats in the documentation: https://pandas.pydata.org/pandas-docs/stable/user_guide/indexing.html#returning-a-view-versus-a-copy\n"
     ]
    }
   ],
   "source": [
    "# Clean the data\n",
    "ml_set = x_ray_clean(ml_set, sizetiercatnum = {'Small Standard-Size': 1, 'Large Standard-Size': 2, 'Small Oversize':3,\\\n",
    "                                                    np.nan: 0})"
   ]
  },
  {
   "cell_type": "code",
   "execution_count": 313,
   "metadata": {
    "scrolled": true
   },
   "outputs": [
    {
     "data": {
      "text/plain": [
       "Index(['ASIN', 'Brand', 'Title', 'Category', 'BuyBox', '#', 'Fulfillment ',\n",
       "       'Price', 'FBA fee', 'Sales', 'Revenue', 'BSR', 'Rating', 'Review Count',\n",
       "       'Review Velocity', 'Dimensions', 'Weight', 'Size Tier', 'Images',\n",
       "       'Listing Creation Date', 'Review Ratio', 'Volume', 'Size Tier Numeric',\n",
       "       'FF Numeric', 'Listing Length'],\n",
       "      dtype='object')"
      ]
     },
     "execution_count": 313,
     "metadata": {},
     "output_type": "execute_result"
    }
   ],
   "source": [
    "ml_set.columns"
   ]
  },
  {
   "cell_type": "code",
   "execution_count": 315,
   "metadata": {},
   "outputs": [],
   "source": [
    "X_lst = ['Title', 'Price', 'FBA fee', 'Rating', 'Review Count', 'Weight', 'Images', 'Review Ratio', 'Size Tier Numeric',\\\n",
    "       'Volume', 'Size Tier Numeric', 'FF Numeric', 'Listing Length']\n",
    "X = ml_set[X_lst]\n",
    "y = ml_set.Sales.values"
   ]
  },
  {
   "cell_type": "code",
   "execution_count": 404,
   "metadata": {},
   "outputs": [],
   "source": [
    "myown_x = myown[X_lst]\n",
    "myown_y = myown.Sales.values"
   ]
  },
  {
   "cell_type": "code",
   "execution_count": 316,
   "metadata": {},
   "outputs": [],
   "source": [
    "X_train, X_test, y_train, y_test = train_test_split(X, y, test_size = 0.1, random_state = 42)"
   ]
  },
  {
   "cell_type": "code",
   "execution_count": 366,
   "metadata": {},
   "outputs": [],
   "source": [
    "def x_prep(X, vect, tfidf, train_test):\n",
    "    title = X.Title.values\n",
    "    if train_test == 'train':\n",
    "        title_counts = vect.fit_transform(title)\n",
    "        title_tfidf = tfidf.fit_transform(title_counts)\n",
    "    else:\n",
    "        title_counts = vect.transform(title)\n",
    "        title_tfidf = tfidf.transform(title_counts)\n",
    "    X.drop(['Title'], axis =1, inplace = True)\n",
    "    X_conc = np.concatenate((title_tfidf.toarray(), X.values), axis = 1)\n",
    "    return X_conc"
   ]
  },
  {
   "cell_type": "code",
   "execution_count": 369,
   "metadata": {},
   "outputs": [
    {
     "name": "stderr",
     "output_type": "stream",
     "text": [
      "C:\\Users\\Zixing\\anaconda3\\lib\\site-packages\\pandas\\core\\frame.py:3997: SettingWithCopyWarning: \n",
      "A value is trying to be set on a copy of a slice from a DataFrame\n",
      "\n",
      "See the caveats in the documentation: https://pandas.pydata.org/pandas-docs/stable/user_guide/indexing.html#returning-a-view-versus-a-copy\n",
      "  errors=errors,\n"
     ]
    }
   ],
   "source": [
    "myown_X = x_prep(myown_x, vect = vect, tfidf = tfidf, train_test = 'test')"
   ]
  },
  {
   "cell_type": "code",
   "execution_count": 317,
   "metadata": {},
   "outputs": [],
   "source": [
    "title_train = X_train.Title.values\n",
    "title_test = X_test.Title.values"
   ]
  },
  {
   "cell_type": "code",
   "execution_count": 318,
   "metadata": {},
   "outputs": [],
   "source": [
    "# Now we split the title into columns for machine learning\n",
    "vect = CountVectorizer(tokenizer=amz.tokenize)\n",
    "tfidf = TfidfTransformer()"
   ]
  },
  {
   "cell_type": "code",
   "execution_count": 319,
   "metadata": {
    "scrolled": true
   },
   "outputs": [
    {
     "name": "stderr",
     "output_type": "stream",
     "text": [
      "C:\\Users\\Zixing\\anaconda3\\lib\\site-packages\\pandas\\core\\frame.py:3997: SettingWithCopyWarning: \n",
      "A value is trying to be set on a copy of a slice from a DataFrame\n",
      "\n",
      "See the caveats in the documentation: https://pandas.pydata.org/pandas-docs/stable/user_guide/indexing.html#returning-a-view-versus-a-copy\n",
      "  errors=errors,\n"
     ]
    }
   ],
   "source": [
    "title_train_counts = vect.fit_transform(title_train)\n",
    "title_train_tfidf = tfidf.fit_transform(title_train_counts)\n",
    "X_train.drop(['Title'], axis =1, inplace = True)\n",
    "X_train_conc = np.concatenate((title_train_tfidf.toarray(), X_train.values), axis = 1)"
   ]
  },
  {
   "cell_type": "code",
   "execution_count": 321,
   "metadata": {
    "scrolled": true
   },
   "outputs": [
    {
     "data": {
      "text/plain": [
       "(1144, 1511)"
      ]
     },
     "execution_count": 321,
     "metadata": {},
     "output_type": "execute_result"
    }
   ],
   "source": [
    "X_train_conc.shape"
   ]
  },
  {
   "cell_type": "code",
   "execution_count": 338,
   "metadata": {},
   "outputs": [
    {
     "name": "stderr",
     "output_type": "stream",
     "text": [
      "C:\\Users\\Zixing\\anaconda3\\lib\\site-packages\\pandas\\core\\frame.py:3997: SettingWithCopyWarning: \n",
      "A value is trying to be set on a copy of a slice from a DataFrame\n",
      "\n",
      "See the caveats in the documentation: https://pandas.pydata.org/pandas-docs/stable/user_guide/indexing.html#returning-a-view-versus-a-copy\n",
      "  errors=errors,\n"
     ]
    }
   ],
   "source": [
    "title_test_counts = vect.transform(title_test)\n",
    "title_test_tfidf = tfidf.transform(title_test_counts)\n",
    "X_test.drop(['Title'], axis =1, inplace = True)\n",
    "X_test_conc = np.concatenate((title_test_tfidf.toarray(), X_test.values), axis = 1)"
   ]
  },
  {
   "cell_type": "markdown",
   "metadata": {},
   "source": [
    "Use regression of all values to fit the sales\n",
    "- Linear regression:\n",
    "    - Ordinary Least Squares\n",
    "    - Elastic-Net\n",
    "- Polynomial regression\n",
    "- Random Tree "
   ]
  },
  {
   "cell_type": "code",
   "execution_count": 332,
   "metadata": {},
   "outputs": [
    {
     "data": {
      "text/plain": [
       "array([1.855e+03, 1.932e+03, 0.000e+00, ..., 1.000e+00, 1.500e+01,\n",
       "       1.000e+00])"
      ]
     },
     "execution_count": 332,
     "metadata": {},
     "output_type": "execute_result"
    }
   ],
   "source": [
    "y_train"
   ]
  },
  {
   "cell_type": "code",
   "execution_count": 324,
   "metadata": {},
   "outputs": [
    {
     "data": {
      "text/plain": [
       "True"
      ]
     },
     "execution_count": 324,
     "metadata": {},
     "output_type": "execute_result"
    }
   ],
   "source": [
    "np.all(np.isfinite(X_train_conc))"
   ]
  },
  {
   "cell_type": "code",
   "execution_count": 343,
   "metadata": {
    "scrolled": false
   },
   "outputs": [],
   "source": [
    "OLS = linear_model.LinearRegression()\n",
    "enet = linear_model.ElasticNet()\n",
    "poly3 = PolynomialFeatures(degree=2)\n",
    "#X_train_3 = poly3.fit_transform(X_train_conc)\n",
    "RForest = RandomForestRegressor()"
   ]
  },
  {
   "cell_type": "markdown",
   "metadata": {},
   "source": [
    "Linear"
   ]
  },
  {
   "cell_type": "code",
   "execution_count": 340,
   "metadata": {
    "scrolled": true
   },
   "outputs": [
    {
     "data": {
      "text/plain": [
       "-0.02094274684592823"
      ]
     },
     "execution_count": 340,
     "metadata": {},
     "output_type": "execute_result"
    }
   ],
   "source": [
    "OLS.fit(X_train_conc, y_train)\n",
    "y_pred = OLS.predict(X_test_conc)\n",
    "\n",
    "r2_score(y_pred , y_test)"
   ]
  },
  {
   "cell_type": "markdown",
   "metadata": {},
   "source": [
    "Elastic-Net for Linear"
   ]
  },
  {
   "cell_type": "code",
   "execution_count": 341,
   "metadata": {
    "scrolled": true
   },
   "outputs": [
    {
     "data": {
      "text/plain": [
       "0.23414025994036836"
      ]
     },
     "execution_count": 341,
     "metadata": {},
     "output_type": "execute_result"
    }
   ],
   "source": [
    "enet.fit(X_train_conc, y_train)\n",
    "y_pred = enet.predict(X_test_conc)\n",
    "r2_score(y_pred , y_test)"
   ]
  },
  {
   "cell_type": "markdown",
   "metadata": {},
   "source": [
    "Random Forest"
   ]
  },
  {
   "cell_type": "code",
   "execution_count": 344,
   "metadata": {},
   "outputs": [
    {
     "data": {
      "text/plain": [
       "0.7891821194508326"
      ]
     },
     "execution_count": 344,
     "metadata": {},
     "output_type": "execute_result"
    }
   ],
   "source": [
    "RForest.fit(X_train_conc, y_train)\n",
    "y_pred = RForest.predict(X_test_conc)\n",
    "r2_score(y_pred , y_test)"
   ]
  },
  {
   "cell_type": "markdown",
   "metadata": {},
   "source": [
    "Decision Tree"
   ]
  },
  {
   "cell_type": "code",
   "execution_count": 346,
   "metadata": {
    "scrolled": true
   },
   "outputs": [
    {
     "data": {
      "text/plain": [
       "0.8208201610830448"
      ]
     },
     "execution_count": 346,
     "metadata": {},
     "output_type": "execute_result"
    }
   ],
   "source": [
    "DTree = DecisionTreeRegressor()\n",
    "DTree.fit(X_train_conc, y_train)\n",
    "y_pred = DTree.predict(X_test_conc)\n",
    "r2_score(y_pred , y_test)"
   ]
  },
  {
   "cell_type": "markdown",
   "metadata": {},
   "source": [
    "Support Vector Regressor"
   ]
  },
  {
   "cell_type": "code",
   "execution_count": 353,
   "metadata": {},
   "outputs": [
    {
     "data": {
      "text/plain": [
       "-14961289.552900324"
      ]
     },
     "execution_count": 353,
     "metadata": {},
     "output_type": "execute_result"
    }
   ],
   "source": [
    "svr = make_pipeline(StandardScaler(), SVR(C=1.0, epsilon=0.2))\n",
    "svr.fit(X_train_conc, y_train)\n",
    "y_pred = svr.predict(X_test_conc)\n",
    "r2_score(y_pred , y_test)"
   ]
  },
  {
   "cell_type": "markdown",
   "metadata": {},
   "source": [
    "With an initial screening, we can see decision tree and random forest gives the closest estimations. Now we use a grid search to find the best parameters for the estimation. "
   ]
  },
  {
   "cell_type": "code",
   "execution_count": 358,
   "metadata": {},
   "outputs": [
    {
     "name": "stdout",
     "output_type": "stream",
     "text": [
      "Fitting 3 folds for each of 75 candidates, totalling 225 fits\n"
     ]
    },
    {
     "name": "stderr",
     "output_type": "stream",
     "text": [
      "[Parallel(n_jobs=-1)]: Using backend LokyBackend with 4 concurrent workers.\n",
      "[Parallel(n_jobs=-1)]: Done  24 tasks      | elapsed:  1.6min\n",
      "[Parallel(n_jobs=-1)]: Done 120 tasks      | elapsed:  8.4min\n",
      "[Parallel(n_jobs=-1)]: Done 225 out of 225 | elapsed: 16.0min finished\n"
     ]
    },
    {
     "data": {
      "text/plain": [
       "GridSearchCV(cv=3, error_score=nan,\n",
       "             estimator=RandomForestRegressor(bootstrap=True, ccp_alpha=0.0,\n",
       "                                             criterion='mse', max_depth=None,\n",
       "                                             max_features='auto',\n",
       "                                             max_leaf_nodes=None,\n",
       "                                             max_samples=None,\n",
       "                                             min_impurity_decrease=0.0,\n",
       "                                             min_impurity_split=None,\n",
       "                                             min_samples_leaf=1,\n",
       "                                             min_samples_split=2,\n",
       "                                             min_weight_fraction_leaf=0.0,\n",
       "                                             n_estimators=100, n_jobs=None,\n",
       "                                             oob_score=False, random_state=None,\n",
       "                                             verbose=0, warm_start=False),\n",
       "             iid='deprecated', n_jobs=-1,\n",
       "             param_grid={'ccp_alpha': (0, 0.005, 0.01, 0.015, 0.02),\n",
       "                         'max_depth': range(5, 20, 5),\n",
       "                         'n_estimators': range(50, 300, 50)},\n",
       "             pre_dispatch='2*n_jobs', refit=True, return_train_score=False,\n",
       "             scoring=None, verbose=3)"
      ]
     },
     "execution_count": 358,
     "metadata": {},
     "output_type": "execute_result"
    }
   ],
   "source": [
    "ensemble_clf = [RForest, DTree]\n",
    "params1 = {\"n_estimators\":range(50, 300, 50),\"max_depth\": range(5,20,5), 'ccp_alpha': (0, 0.005, 0.01, 0.015, 0.02)}\n",
    "params2 = {'criterion':['mse', 'friedman_mse', 'mae'], 'min_samples_split': range(2, 10, 4), 'ccp_alpha': (0, 0.005, 0.01, 0.015, 0.02)}\n",
    "parameters_list = [params1, params2]\n",
    "#for i in range(2):\n",
    "grid = GridSearchCV(estimator=ensemble_clf[0], param_grid=parameters_list[0], \n",
    "                      n_jobs=-1, cv=3, verbose=3)\n",
    "grid.fit(X_train_conc, y_train)\n"
   ]
  },
  {
   "cell_type": "code",
   "execution_count": 360,
   "metadata": {
    "scrolled": true
   },
   "outputs": [],
   "source": [
    "RForest_best = grid.best_estimator_"
   ]
  },
  {
   "cell_type": "code",
   "execution_count": 362,
   "metadata": {},
   "outputs": [
    {
     "data": {
      "text/plain": [
       "RandomForestRegressor(bootstrap=True, ccp_alpha=0.005, criterion='mse',\n",
       "                      max_depth=15, max_features='auto', max_leaf_nodes=None,\n",
       "                      max_samples=None, min_impurity_decrease=0.0,\n",
       "                      min_impurity_split=None, min_samples_leaf=1,\n",
       "                      min_samples_split=2, min_weight_fraction_leaf=0.0,\n",
       "                      n_estimators=50, n_jobs=None, oob_score=False,\n",
       "                      random_state=None, verbose=0, warm_start=False)"
      ]
     },
     "execution_count": 362,
     "metadata": {},
     "output_type": "execute_result"
    }
   ],
   "source": [
    "grid.best_estimator_"
   ]
  },
  {
   "cell_type": "code",
   "execution_count": 361,
   "metadata": {},
   "outputs": [
    {
     "data": {
      "text/plain": [
       "0.7707941786636126"
      ]
     },
     "execution_count": 361,
     "metadata": {},
     "output_type": "execute_result"
    }
   ],
   "source": [
    "y_pred = RForest_best.predict(X_test_conc)\n",
    "r2_score(y_pred , y_test)"
   ]
  },
  {
   "cell_type": "code",
   "execution_count": 363,
   "metadata": {
    "scrolled": true
   },
   "outputs": [
    {
     "name": "stdout",
     "output_type": "stream",
     "text": [
      "Fitting 3 folds for each of 30 candidates, totalling 90 fits\n"
     ]
    },
    {
     "name": "stderr",
     "output_type": "stream",
     "text": [
      "[Parallel(n_jobs=-1)]: Using backend LokyBackend with 4 concurrent workers.\n",
      "[Parallel(n_jobs=-1)]: Done  24 tasks      | elapsed:    7.5s\n",
      "[Parallel(n_jobs=-1)]: Done  90 out of  90 | elapsed:   35.9s finished\n"
     ]
    },
    {
     "data": {
      "text/plain": [
       "GridSearchCV(cv=3, error_score=nan,\n",
       "             estimator=DecisionTreeRegressor(ccp_alpha=0.0, criterion='mse',\n",
       "                                             max_depth=None, max_features=None,\n",
       "                                             max_leaf_nodes=None,\n",
       "                                             min_impurity_decrease=0.0,\n",
       "                                             min_impurity_split=None,\n",
       "                                             min_samples_leaf=1,\n",
       "                                             min_samples_split=2,\n",
       "                                             min_weight_fraction_leaf=0.0,\n",
       "                                             presort='deprecated',\n",
       "                                             random_state=None,\n",
       "                                             splitter='best'),\n",
       "             iid='deprecated', n_jobs=-1,\n",
       "             param_grid={'ccp_alpha': (0, 0.005, 0.01, 0.015, 0.02),\n",
       "                         'criterion': ['mse', 'friedman_mse', 'mae'],\n",
       "                         'min_samples_split': range(2, 10, 4)},\n",
       "             pre_dispatch='2*n_jobs', refit=True, return_train_score=False,\n",
       "             scoring=None, verbose=3)"
      ]
     },
     "execution_count": 363,
     "metadata": {},
     "output_type": "execute_result"
    }
   ],
   "source": [
    "grid_DTree = GridSearchCV(estimator=ensemble_clf[1], param_grid=parameters_list[1], \n",
    "                      n_jobs=-1, cv=3, verbose=3)\n",
    "grid_DTree.fit(X_train_conc, y_train)"
   ]
  },
  {
   "cell_type": "code",
   "execution_count": 364,
   "metadata": {},
   "outputs": [
    {
     "data": {
      "text/plain": [
       "DecisionTreeRegressor(ccp_alpha=0.01, criterion='mae', max_depth=None,\n",
       "                      max_features=None, max_leaf_nodes=None,\n",
       "                      min_impurity_decrease=0.0, min_impurity_split=None,\n",
       "                      min_samples_leaf=1, min_samples_split=2,\n",
       "                      min_weight_fraction_leaf=0.0, presort='deprecated',\n",
       "                      random_state=None, splitter='best')"
      ]
     },
     "execution_count": 364,
     "metadata": {},
     "output_type": "execute_result"
    }
   ],
   "source": [
    "grid_DTree.best_estimator_"
   ]
  },
  {
   "cell_type": "code",
   "execution_count": 365,
   "metadata": {},
   "outputs": [
    {
     "data": {
      "text/plain": [
       "0.786340583518028"
      ]
     },
     "execution_count": 365,
     "metadata": {},
     "output_type": "execute_result"
    }
   ],
   "source": [
    "DTree_best = grid_DTree.best_estimator_\n",
    "y_pred = DTree_best.predict(X_test_conc)\n",
    "r2_score(y_pred , y_test)"
   ]
  },
  {
   "cell_type": "code",
   "execution_count": 370,
   "metadata": {},
   "outputs": [
    {
     "data": {
      "text/plain": [
       "array([15., 15., 15., 15., 15., 15.])"
      ]
     },
     "execution_count": 370,
     "metadata": {},
     "output_type": "execute_result"
    }
   ],
   "source": [
    "DTree_best.predict(myown_X)"
   ]
  },
  {
   "cell_type": "code",
   "execution_count": 371,
   "metadata": {},
   "outputs": [
    {
     "data": {
      "text/plain": [
       "array([9, 9, 9, 9, 9, 9], dtype=int64)"
      ]
     },
     "execution_count": 371,
     "metadata": {},
     "output_type": "execute_result"
    }
   ],
   "source": [
    "myown_y"
   ]
  },
  {
   "cell_type": "code",
   "execution_count": 372,
   "metadata": {
    "scrolled": true
   },
   "outputs": [
    {
     "data": {
      "text/plain": [
       "array([15., 15., 15., 15., 15., 15.])"
      ]
     },
     "execution_count": 372,
     "metadata": {},
     "output_type": "execute_result"
    }
   ],
   "source": [
    "grid_DTree.predict(myown_X)"
   ]
  },
  {
   "cell_type": "code",
   "execution_count": 373,
   "metadata": {},
   "outputs": [
    {
     "data": {
      "text/plain": [
       "array([14., 14., 14., 14., 14., 14.])"
      ]
     },
     "execution_count": 373,
     "metadata": {},
     "output_type": "execute_result"
    }
   ],
   "source": [
    "DTree.predict(myown_X)"
   ]
  },
  {
   "cell_type": "code",
   "execution_count": 374,
   "metadata": {},
   "outputs": [
    {
     "data": {
      "text/plain": [
       "array([12.21, 12.2 , 12.23, 12.3 , 12.45, 12.3 ])"
      ]
     },
     "execution_count": 374,
     "metadata": {},
     "output_type": "execute_result"
    }
   ],
   "source": [
    "RForest.predict(myown_X)"
   ]
  },
  {
   "cell_type": "code",
   "execution_count": 400,
   "metadata": {
    "scrolled": false
   },
   "outputs": [
    {
     "data": {
      "text/html": [
       "<div>\n",
       "<style scoped>\n",
       "    .dataframe tbody tr th:only-of-type {\n",
       "        vertical-align: middle;\n",
       "    }\n",
       "\n",
       "    .dataframe tbody tr th {\n",
       "        vertical-align: top;\n",
       "    }\n",
       "\n",
       "    .dataframe thead th {\n",
       "        text-align: right;\n",
       "    }\n",
       "</style>\n",
       "<table border=\"1\" class=\"dataframe\">\n",
       "  <thead>\n",
       "    <tr style=\"text-align: right;\">\n",
       "      <th></th>\n",
       "      <th>Price</th>\n",
       "      <th>FBA fee</th>\n",
       "      <th>Rating</th>\n",
       "      <th>Review Count</th>\n",
       "      <th>Weight</th>\n",
       "      <th>Images</th>\n",
       "      <th>Review Ratio</th>\n",
       "      <th>Size Tier Numeric</th>\n",
       "      <th>Volume</th>\n",
       "      <th>Size Tier Numeric</th>\n",
       "      <th>FF Numeric</th>\n",
       "      <th>Listing Length</th>\n",
       "    </tr>\n",
       "  </thead>\n",
       "  <tbody>\n",
       "    <tr>\n",
       "      <th>0</th>\n",
       "      <td>4.85</td>\n",
       "      <td>3.47</td>\n",
       "      <td>5</td>\n",
       "      <td>4</td>\n",
       "      <td>0.03</td>\n",
       "      <td>4</td>\n",
       "      <td>0.0</td>\n",
       "      <td>1</td>\n",
       "      <td>1.152</td>\n",
       "      <td>1</td>\n",
       "      <td>1</td>\n",
       "      <td>180</td>\n",
       "    </tr>\n",
       "    <tr>\n",
       "      <th>1</th>\n",
       "      <td>4.85</td>\n",
       "      <td>3.47</td>\n",
       "      <td>5</td>\n",
       "      <td>6</td>\n",
       "      <td>0.01</td>\n",
       "      <td>5</td>\n",
       "      <td>0.0</td>\n",
       "      <td>1</td>\n",
       "      <td>0.651</td>\n",
       "      <td>1</td>\n",
       "      <td>1</td>\n",
       "      <td>270</td>\n",
       "    </tr>\n",
       "    <tr>\n",
       "      <th>2</th>\n",
       "      <td>4.85</td>\n",
       "      <td>3.47</td>\n",
       "      <td>5</td>\n",
       "      <td>8</td>\n",
       "      <td>0.01</td>\n",
       "      <td>1</td>\n",
       "      <td>0.0</td>\n",
       "      <td>1</td>\n",
       "      <td>2.500</td>\n",
       "      <td>1</td>\n",
       "      <td>1</td>\n",
       "      <td>360</td>\n",
       "    </tr>\n",
       "    <tr>\n",
       "      <th>3</th>\n",
       "      <td>4.85</td>\n",
       "      <td>4.46</td>\n",
       "      <td>5</td>\n",
       "      <td>10</td>\n",
       "      <td>0.02</td>\n",
       "      <td>7</td>\n",
       "      <td>0.0</td>\n",
       "      <td>1</td>\n",
       "      <td>2.500</td>\n",
       "      <td>1</td>\n",
       "      <td>1</td>\n",
       "      <td>450</td>\n",
       "    </tr>\n",
       "    <tr>\n",
       "      <th>4</th>\n",
       "      <td>4.85</td>\n",
       "      <td>4.46</td>\n",
       "      <td>5</td>\n",
       "      <td>12</td>\n",
       "      <td>0.01</td>\n",
       "      <td>5</td>\n",
       "      <td>0.0</td>\n",
       "      <td>1</td>\n",
       "      <td>1.674</td>\n",
       "      <td>1</td>\n",
       "      <td>1</td>\n",
       "      <td>540</td>\n",
       "    </tr>\n",
       "  </tbody>\n",
       "</table>\n",
       "</div>"
      ],
      "text/plain": [
       "   Price  FBA fee  Rating  Review Count  Weight  Images  Review Ratio  \\\n",
       "0   4.85     3.47       5             4    0.03       4           0.0   \n",
       "1   4.85     3.47       5             6    0.01       5           0.0   \n",
       "2   4.85     3.47       5             8    0.01       1           0.0   \n",
       "3   4.85     4.46       5            10    0.02       7           0.0   \n",
       "4   4.85     4.46       5            12    0.01       5           0.0   \n",
       "\n",
       "   Size Tier Numeric  Volume  Size Tier Numeric  FF Numeric  Listing Length  \n",
       "0                  1   1.152                  1           1             180  \n",
       "1                  1   0.651                  1           1             270  \n",
       "2                  1   2.500                  1           1             360  \n",
       "3                  1   2.500                  1           1             450  \n",
       "4                  1   1.674                  1           1             540  "
      ]
     },
     "execution_count": 400,
     "metadata": {},
     "output_type": "execute_result"
    }
   ],
   "source": [
    "myown_x.head()"
   ]
  },
  {
   "cell_type": "code",
   "execution_count": 405,
   "metadata": {
    "scrolled": true
   },
   "outputs": [
    {
     "name": "stderr",
     "output_type": "stream",
     "text": [
      "C:\\Users\\Zixing\\anaconda3\\lib\\site-packages\\ipykernel_launcher.py:1: SettingWithCopyWarning: \n",
      "A value is trying to be set on a copy of a slice from a DataFrame.\n",
      "Try using .loc[row_indexer,col_indexer] = value instead\n",
      "\n",
      "See the caveats in the documentation: https://pandas.pydata.org/pandas-docs/stable/user_guide/indexing.html#returning-a-view-versus-a-copy\n",
      "  \"\"\"Entry point for launching an IPython kernel.\n",
      "C:\\Users\\Zixing\\anaconda3\\lib\\site-packages\\ipykernel_launcher.py:3: SettingWithCopyWarning: \n",
      "A value is trying to be set on a copy of a slice from a DataFrame.\n",
      "Try using .loc[row_indexer,col_indexer] = value instead\n",
      "\n",
      "See the caveats in the documentation: https://pandas.pydata.org/pandas-docs/stable/user_guide/indexing.html#returning-a-view-versus-a-copy\n",
      "  This is separate from the ipykernel package so we can avoid doing imports until\n"
     ]
    }
   ],
   "source": [
    "myown_x['Listing Length'] = 90*np.arange(2, 8)\n",
    "\n",
    "myown_x['Review Count'] = 2*np.arange(2, 8)"
   ]
  },
  {
   "cell_type": "code",
   "execution_count": 406,
   "metadata": {},
   "outputs": [
    {
     "name": "stderr",
     "output_type": "stream",
     "text": [
      "C:\\Users\\Zixing\\anaconda3\\lib\\site-packages\\pandas\\core\\frame.py:3997: SettingWithCopyWarning: \n",
      "A value is trying to be set on a copy of a slice from a DataFrame\n",
      "\n",
      "See the caveats in the documentation: https://pandas.pydata.org/pandas-docs/stable/user_guide/indexing.html#returning-a-view-versus-a-copy\n",
      "  errors=errors,\n"
     ]
    }
   ],
   "source": [
    "myown_X = x_prep(myown_x, vect = vect, tfidf = tfidf, train_test = 'test')"
   ]
  },
  {
   "cell_type": "code",
   "execution_count": 408,
   "metadata": {},
   "outputs": [],
   "source": [
    "time_sales = DTree.predict(myown_X)"
   ]
  },
  {
   "cell_type": "code",
   "execution_count": 411,
   "metadata": {},
   "outputs": [
    {
     "data": {
      "text/plain": [
       "Text(0.5, 1.0, 'Predicted Sales of the item with time')"
      ]
     },
     "execution_count": 411,
     "metadata": {},
     "output_type": "execute_result"
    },
    {
     "data": {
      "image/png": "[encoded data removed]",
      "text/plain": [
       "<Figure size 432x288 with 1 Axes>"
      ]
     },
     "metadata": {
      "needs_background": "light"
     },
     "output_type": "display_data"
    }
   ],
   "source": [
    "plt.plot(0.25*np.arange(2, 8), time_sales, 'o-')\n",
    "plt.xlabel('Time (years)')\n",
    "plt.ylabel('Sales')\n",
    "plt.title('Predicted Sales of the item with time')"
   ]
  }
 ],
 "metadata": {
  "kernelspec": {
   "display_name": "Python 3",
   "language": "python",
   "name": "python3"
  },
  "language_info": {
   "codemirror_mode": {
    "name": "ipython",
    "version": 3
   },
   "file_extension": ".py",
   "mimetype": "text/x-python",
   "name": "python",
   "nbconvert_exporter": "python",
   "pygments_lexer": "ipython3",
   "version": "3.7.6"
  }
 },
 "nbformat": 4,
 "nbformat_minor": 4
}
